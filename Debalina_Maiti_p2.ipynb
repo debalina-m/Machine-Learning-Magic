{
 "cells": [
  {
   "cell_type": "markdown",
   "metadata": {},
   "source": [
    "# Topic Classification"
   ]
  },
  {
   "cell_type": "markdown",
   "metadata": {},
   "source": [
    "In this project, we will work with text data from newsgroup postings on a variety of topics. We will train classifiers to distinguish between the topics based on the text of the posts. Whereas with digit classification, the input is relatively dense: a 28x28 matrix of pixels, many of which are non-zero, here we'll represent each document with a \"bag-of-words\" model. As you'll see, this makes the feature representation quite sparse -- only a few words of the total vocabulary are active in any given document. The bag-of-words assumption here is that the label depends only on the words; their order is not important.\n",
    "\n",
    "The SK-learn documentation on feature extraction:\n",
    "http://scikit-learn.org/stable/modules/feature_extraction.html\n",
    "\n"
   ]
  },
  {
   "cell_type": "code",
   "execution_count": 1,
   "metadata": {},
   "outputs": [],
   "source": [
    "# This tells matplotlib not to try opening a new window for each plot.\n",
    "%matplotlib inline\n",
    "\n",
    "# General libraries.\n",
    "import re\n",
    "import numpy as np\n",
    "import matplotlib.pyplot as plt\n",
    "import pandas as pd\n",
    "# SK-learn libraries for learning.\n",
    "from sklearn.pipeline import Pipeline\n",
    "from sklearn.neighbors import KNeighborsClassifier\n",
    "from sklearn.linear_model import LogisticRegression\n",
    "from sklearn.naive_bayes import BernoulliNB\n",
    "from sklearn.naive_bayes import MultinomialNB\n",
    "from sklearn.model_selection import GridSearchCV\n",
    "from sklearn.metrics import f1_score\n",
    "from sklearn.preprocessing import scale\n",
    "from sklearn import preprocessing\n",
    "#from sklearn.feature_extraction import SelectPercentile\n",
    "\n",
    "# SK-learn libraries for evaluation.\n",
    "from sklearn.metrics import confusion_matrix\n",
    "from sklearn import metrics\n",
    "from sklearn.metrics import classification_report\n",
    "\n",
    "# SK-learn library for importing the newsgroup data.\n",
    "from sklearn.datasets import fetch_20newsgroups\n",
    "\n",
    "# SK-learn libraries for feature extraction from text.\n",
    "from sklearn.feature_extraction.text import *"
   ]
  },
  {
   "cell_type": "markdown",
   "metadata": {},
   "source": [
    "Load the data, stripping out metadata so that we learn classifiers that only use textual features. By default, newsgroups data is split into train and test sets. We further split the test so we have a dev set. Note that we specify 4 categories to use for this project. If you remove the categories argument from the fetch function, you'll get all 20 categories."
   ]
  },
  {
   "cell_type": "code",
   "execution_count": 2,
   "metadata": {},
   "outputs": [
    {
     "name": "stdout",
     "output_type": "stream",
     "text": [
      "training label shape: (2034,)\n",
      "test label shape: (676,)\n",
      "dev label shape: (676,)\n",
      "labels names: ['alt.atheism', 'comp.graphics', 'sci.space', 'talk.religion.misc']\n"
     ]
    }
   ],
   "source": [
    "categories = ['alt.atheism', 'talk.religion.misc', 'comp.graphics', 'sci.space']\n",
    "newsgroups_train = fetch_20newsgroups(subset='train',\n",
    "                                      remove=('headers', 'footers', 'quotes'),\n",
    "                                      categories=categories)\n",
    "newsgroups_test = fetch_20newsgroups(subset='test',\n",
    "                                     remove=('headers', 'footers', 'quotes'),\n",
    "                                     categories=categories)\n",
    "\n",
    "num_test = len(newsgroups_test.target)\n",
    "test_data, test_labels = newsgroups_test.data[677:], newsgroups_test.target[677:]\n",
    "dev_data, dev_labels = newsgroups_test.data[:676], newsgroups_test.target[:676]\n",
    "train_data, train_labels = newsgroups_train.data, newsgroups_train.target\n",
    "\n",
    "print ('training label shape:', train_labels.shape)\n",
    "print ('test label shape:', test_labels.shape)\n",
    "print ('dev label shape:', dev_labels.shape)\n",
    "print ('labels names:', newsgroups_train.target_names)"
   ]
  },
  {
   "cell_type": "markdown",
   "metadata": {},
   "source": [
    "(1) For each of the first 5 training examples, print the text of the message along with the label.\n",
    "\n",
    "[2 pts]"
   ]
  },
  {
   "cell_type": "code",
   "execution_count": 3,
   "metadata": {},
   "outputs": [
    {
     "name": "stdout",
     "output_type": "stream",
     "text": [
      "Label =  1\n",
      "[]\n",
      "Label =  3\n",
      "[\"Hi,\\n\\nI've noticed that if you only save a model (with all your mapping planes\\npositioned carefully) to a .3DS file that when you reload it after restarting\\n3DS, they are given a default position and orientation.  But if you save\\nto a .PRJ file their positions/orientation are preserved.  Does anyone\\nknow why this information is not stored in the .3DS file?  Nothing is\\nexplicitly said in the manual about saving texture rules in the .PRJ file. \\nI'd like to be able to read the texture rule information, does anyone have \\nthe format for the .PRJ file?\\n\\nIs the .CEL file format available from somewhere?\\n\\nRych\"]\n",
      "Label =  2\n",
      "[\"Hi,\\n\\nI've noticed that if you only save a model (with all your mapping planes\\npositioned carefully) to a .3DS file that when you reload it after restarting\\n3DS, they are given a default position and orientation.  But if you save\\nto a .PRJ file their positions/orientation are preserved.  Does anyone\\nknow why this information is not stored in the .3DS file?  Nothing is\\nexplicitly said in the manual about saving texture rules in the .PRJ file. \\nI'd like to be able to read the texture rule information, does anyone have \\nthe format for the .PRJ file?\\n\\nIs the .CEL file format available from somewhere?\\n\\nRych\", '\\n\\nSeems to be, barring evidence to the contrary, that Koresh was simply\\nanother deranged fanatic who thought it neccessary to take a whole bunch of\\nfolks with him, children and all, to satisfy his delusional mania. Jim\\nJones, circa 1993.\\n\\n\\nNope - fruitcakes like Koresh have been demonstrating such evil corruption\\nfor centuries.']\n",
      "Label =  0\n",
      "[\"Hi,\\n\\nI've noticed that if you only save a model (with all your mapping planes\\npositioned carefully) to a .3DS file that when you reload it after restarting\\n3DS, they are given a default position and orientation.  But if you save\\nto a .PRJ file their positions/orientation are preserved.  Does anyone\\nknow why this information is not stored in the .3DS file?  Nothing is\\nexplicitly said in the manual about saving texture rules in the .PRJ file. \\nI'd like to be able to read the texture rule information, does anyone have \\nthe format for the .PRJ file?\\n\\nIs the .CEL file format available from somewhere?\\n\\nRych\", '\\n\\nSeems to be, barring evidence to the contrary, that Koresh was simply\\nanother deranged fanatic who thought it neccessary to take a whole bunch of\\nfolks with him, children and all, to satisfy his delusional mania. Jim\\nJones, circa 1993.\\n\\n\\nNope - fruitcakes like Koresh have been demonstrating such evil corruption\\nfor centuries.', \"\\n >In article <1993Apr19.020359.26996@sq.sq.com>, msb@sq.sq.com (Mark Brader) \\n\\nMB>                                                             So the\\nMB> 1970 figure seems unlikely to actually be anything but a perijove.\\n\\nJG>Sorry, _perijoves_...I'm not used to talking this language.\\n\\nCouldn't we just say periapsis or apoapsis?\\n\\n \"]\n",
      "Label =  2\n",
      "[\"Hi,\\n\\nI've noticed that if you only save a model (with all your mapping planes\\npositioned carefully) to a .3DS file that when you reload it after restarting\\n3DS, they are given a default position and orientation.  But if you save\\nto a .PRJ file their positions/orientation are preserved.  Does anyone\\nknow why this information is not stored in the .3DS file?  Nothing is\\nexplicitly said in the manual about saving texture rules in the .PRJ file. \\nI'd like to be able to read the texture rule information, does anyone have \\nthe format for the .PRJ file?\\n\\nIs the .CEL file format available from somewhere?\\n\\nRych\", '\\n\\nSeems to be, barring evidence to the contrary, that Koresh was simply\\nanother deranged fanatic who thought it neccessary to take a whole bunch of\\nfolks with him, children and all, to satisfy his delusional mania. Jim\\nJones, circa 1993.\\n\\n\\nNope - fruitcakes like Koresh have been demonstrating such evil corruption\\nfor centuries.', \"\\n >In article <1993Apr19.020359.26996@sq.sq.com>, msb@sq.sq.com (Mark Brader) \\n\\nMB>                                                             So the\\nMB> 1970 figure seems unlikely to actually be anything but a perijove.\\n\\nJG>Sorry, _perijoves_...I'm not used to talking this language.\\n\\nCouldn't we just say periapsis or apoapsis?\\n\\n \", 'I have a request for those who would like to see Charley Wingate\\nrespond to the \"Charley Challenges\" (and judging from my e-mail, there\\nappear to be quite a few of you.)  \\n\\nIt is clear that Mr. Wingate intends to continue to post tangential or\\nunrelated articles while ingoring the Challenges themselves.  Between\\nthe last two re-postings of the Challenges, I noted perhaps a dozen or\\nmore posts by Mr. Wingate, none of which answered a single Challenge.  \\n\\nIt seems unmistakable to me that Mr. Wingate hopes that the questions\\nwill just go away, and he is doing his level best to change the\\nsubject.  Given that this seems a rather common net.theist tactic, I\\nwould like to suggest that we impress upon him our desire for answers,\\nin the following manner:\\n\\n1. Ignore any future articles by Mr. Wingate that do not address the\\nChallenges, until he answers them or explictly announces that he\\nrefuses to do so.\\n\\n--or--\\n\\n2. If you must respond to one of his articles, include within it\\nsomething similar to the following:\\n\\n    \"Please answer the questions posed to you in the Charley Challenges.\"\\n\\nReally, I\\'m not looking to humiliate anyone here, I just want some\\nhonest answers.  You wouldn\\'t think that honesty would be too much to\\nask from a devout Christian, would you?  \\n\\nNevermind, that was a rhetorical question.']\n"
     ]
    }
   ],
   "source": [
    "# P1():\n",
    "\n",
    "# Considering only five example data\n",
    "for text in range(len(train_data[:5])):\n",
    "    \n",
    "    #print label\n",
    "    print('Label = ', train_labels[text])\n",
    "    #print example text\n",
    "    print(train_data[:text])\n",
    "\n",
    "#P1(2)"
   ]
  },
  {
   "cell_type": "markdown",
   "metadata": {},
   "source": [
    "(2) Use CountVectorizer to turn the raw training text into feature vectors. You should use the fit_transform function, which makes 2 passes through the data: first it computes the vocabulary (\"fit\"), second it converts the raw text into feature vectors using the vocabulary (\"transform\").\n",
    "\n",
    "The vectorizer has a lot of options. To get familiar with some of them, write code to answer these questions:\n",
    "\n",
    "a. The output of the transform (also of fit_transform) is a sparse matrix: http://docs.scipy.org/doc/scipy-0.14.0/reference/generated/scipy.sparse.csr_matrix.html. What is the size of the vocabulary? What is the average number of non-zero features per example? What fraction of the entries in the matrix are non-zero? Hint: use \"nnz\" and \"shape\" attributes.\n",
    "\n",
    "b. What are the 0th and last feature strings (in alphabetical order)? Hint: use the vectorizer's get_feature_names function.\n",
    "\n",
    "c. Specify your own vocabulary with 4 words: [\"atheism\", \"graphics\", \"space\", \"religion\"]. Confirm the training vectors are appropriately shaped. Now what's the average number of non-zero features per example?\n",
    "\n",
    "d. Instead of extracting unigram word features, use \"analyzer\" and \"ngram_range\" to extract bigram and trigram character features. What size vocabulary does this yield?\n",
    "\n",
    "e. Use the \"min_df\" argument to prune words that appear in fewer than 10 documents. What size vocabulary does this yield?\n",
    "\n",
    "f. Using the standard CountVectorizer, what fraction of the words in the dev data are missing from the vocabulary? Hint: build a vocabulary for both train and dev and look at the size of the difference.\n",
    "\n",
    "[6 pts]"
   ]
  },
  {
   "cell_type": "code",
   "execution_count": 4,
   "metadata": {},
   "outputs": [
    {
     "data": {
      "text/plain": [
       "array([[0, 0, 0, ..., 0, 0, 0],\n",
       "       [0, 0, 0, ..., 0, 0, 0],\n",
       "       [0, 0, 0, ..., 0, 0, 0],\n",
       "       ...,\n",
       "       [0, 0, 0, ..., 0, 0, 0],\n",
       "       [0, 0, 0, ..., 0, 0, 0],\n",
       "       [0, 0, 0, ..., 0, 0, 0]], dtype=int64)"
      ]
     },
     "execution_count": 4,
     "metadata": {},
     "output_type": "execute_result"
    }
   ],
   "source": [
    "#P2:\n",
    "\n",
    "##Convert the raw training text into feature vectors##\n",
    "cv = CountVectorizer()\n",
    "train_cv = cv.fit_transform(train_data)\n",
    "#print(train_cv)\n",
    "train_cv.toarray()\n",
    "#dev_cv = cv.transform(dev_data)\n",
    "#print(train_cv.toarray())\n",
    "\n",
    "#print(train_cv.shape, dev_cv.shape)\n",
    "\n"
   ]
  },
  {
   "cell_type": "code",
   "execution_count": 5,
   "metadata": {},
   "outputs": [
    {
     "name": "stdout",
     "output_type": "stream",
     "text": [
      "Size of the vocabulary is: 26879\n",
      "Size of the average non-zero per example is: 96.706\n",
      "Fraction of non-zero entry is: 0.0036\n"
     ]
    }
   ],
   "source": [
    "#P2.a\n",
    "\n",
    "##Size of vocabulary##\n",
    "\n",
    "print(\"Size of the vocabulary is:\", train_cv.shape[1])\n",
    "\n",
    "\n",
    "#Get total count and average count of non-zero features\n",
    "\n",
    "def count_nonzero(feature_vector):    \n",
    "    count_nnz = 0\n",
    "    avg_nnz = 0\n",
    "    for example in range(feature_vector.shape[0]):\n",
    "        count_nnz = count_nnz + feature_vector[example].nnz\n",
    "    avg_nnz = round((count_nnz/feature_vector.shape[0]), 5)\n",
    "    return[count_nnz, avg_nnz]\n",
    "\n",
    "#Divide total non-zero entry by total matrix entry\n",
    "def frac_nonzero(feature_vector, total_nonzero):\n",
    "    total_entry = feature_vector.shape[0]*feature_vector.shape[1]\n",
    "    frac_nonzero = round(total_nonzero/total_entry,5)\n",
    "    return frac_nonzero\n",
    "\n",
    "##Average Number of non-zero features##\n",
    "\n",
    "count_nnz = count_nonzero(train_cv)\n",
    "print(\"Size of the average non-zero per example is:\", count_nnz[1])\n",
    "\n",
    "##Fraction of non-zero entry in the feature matrix##\n",
    "\n",
    "frac_nnz = frac_nonzero(train_cv, count_nnz[0])\n",
    "print(\"Fraction of non-zero entry is:\", frac_nnz)\n",
    "\n",
    "#print(\"Total non-zero entry is:\", count_nonzero(train_cv)[0])"
   ]
  },
  {
   "cell_type": "code",
   "execution_count": 6,
   "metadata": {},
   "outputs": [
    {
     "name": "stdout",
     "output_type": "stream",
     "text": [
      "0-th feature of the string is:  00\n",
      "Last feature of the string is:  zyxel\n"
     ]
    }
   ],
   "source": [
    "###P2.b\n",
    "\n",
    "feature_names = cv.get_feature_names()\n",
    "\n",
    "##0-th feature of the string\n",
    "print(\"0-th feature of the string is: \",feature_names[0])\n",
    "\n",
    "##last feature of the string\n",
    "print(\"Last feature of the string is: \",feature_names[len(feature_names)-1])"
   ]
  },
  {
   "cell_type": "code",
   "execution_count": 7,
   "metadata": {},
   "outputs": [
    {
     "name": "stdout",
     "output_type": "stream",
     "text": [
      "Size of the average non-zero per example is: 0.26844\n"
     ]
    }
   ],
   "source": [
    "###P2.c\n",
    "\n",
    "##Specify vocabulary with 4 words: [\"atheism\", \"graphics\", \"space\", \"religion\"]\n",
    "\n",
    "my_vocab = [\"atheism\", \"graphics\", \"space\", \"religion\"]\n",
    "\n",
    "##Confirm the training vectors are appropriately shaped.\n",
    "my_cv = CountVectorizer(vocabulary=my_vocab)\n",
    "my_train_cv = my_cv.fit_transform(train_data)\n",
    "\n",
    "##The average number of non-zero features per example\n",
    "count_nnz = count_nonzero(my_train_cv)\n",
    "print(\"Size of the average non-zero per example is:\", count_nnz[1])"
   ]
  },
  {
   "cell_type": "code",
   "execution_count": 8,
   "metadata": {},
   "outputs": [
    {
     "name": "stdout",
     "output_type": "stream",
     "text": [
      "The size of the vocabulary is:  346592\n"
     ]
    }
   ],
   "source": [
    "###P2.d\n",
    "\n",
    "##Instead of extracting unigram word features, use \"analyzer\" and \"ngram_range\" to extract bigram and trigram character features.\n",
    "\n",
    "#For extracting bigram and trigram character word features using ngram_rang = (2,3)\n",
    "tv = TfidfVectorizer(analyzer = 'word', min_df= 1, stop_words= 'english', ngram_range=(2,3))\n",
    "train_tv = tv.fit_transform(train_data)\n",
    "#feature_tv = tv.get_feature_names()\n",
    "#print(feature_tv[:20])\n",
    "#cv1 = CountVectorizer()\n",
    "#train_cv1 = cv1.fit_transform(train_data[:20])\n",
    "#print(train_cv1)\n",
    "#print('TfidfVectorizer = ',train_tv)\n",
    "#print(train_cv1.toarray())\n",
    "#print('hi')\n",
    "#print(train_tv.toarray())\n",
    "#feature_cv = cv1.get_feature_names()\n",
    "\n",
    "##What size vocabulary does this yield?\n",
    "\n",
    "#Define function to calculate vocabulary length\n",
    "\n",
    "def vocab_length(feature_vector):\n",
    "    return(len(feature_vector.vocabulary_))\n",
    "\n",
    "print('The size of the vocabulary is: ', vocab_length(tv))\n"
   ]
  },
  {
   "cell_type": "code",
   "execution_count": 9,
   "metadata": {},
   "outputs": [
    {
     "name": "stdout",
     "output_type": "stream",
     "text": [
      "The size of the vocabulary where words appear in fewer than 10 documents is:  3064\n"
     ]
    }
   ],
   "source": [
    "###P2.e\n",
    "\n",
    "##Use the \"min_df\" argument to prune words that appear in fewer than 10 documents.\n",
    "\n",
    "tv_min_df = TfidfVectorizer(analyzer = 'word', min_df= 10)\n",
    "train_tv_min_df = tv_min_df.fit_transform(train_data)\n",
    "\n",
    "##What size vocabulary does this yield?\n",
    "\n",
    "print('The size of the vocabulary where words appear in fewer than 10 documents is: ', vocab_length(tv_min_df))"
   ]
  },
  {
   "cell_type": "code",
   "execution_count": 10,
   "metadata": {},
   "outputs": [
    {
     "name": "stdout",
     "output_type": "stream",
     "text": [
      "vocab_train_len =  26879\n",
      "vocab_dev_len =  16246\n",
      "vocab_len_diff =  10633\n",
      "fraction of the words in the dev data that are missing from the vocabulary is:end=  0.39559\n"
     ]
    }
   ],
   "source": [
    "###P2.f\n",
    "\n",
    "##f. Using the standard CountVectorizer, what fraction of the words in the dev data are missing from the vocabulary?\n",
    "#Hint: build a vocabulary for both train and dev and look at the size of the difference.\n",
    "\n",
    "#\n",
    "# Calculate length of vocabulary in train_data\n",
    "\n",
    "vocab_train_len = vocab_length(cv)\n",
    "print('vocab_train_len = ',vocab_train_len)\n",
    "# Calculate length of vocabulary in dev_data\n",
    "\n",
    "cv_dev = CountVectorizer()\n",
    "dev_cv = cv_dev.fit_transform(dev_data)\n",
    "vocab_dev_len = vocab_length(cv_dev)\n",
    "print('vocab_dev_len = ',vocab_dev_len)\n",
    "# Calculate Difference in vocabulary length between train and dev\n",
    "\n",
    "vocab_len_diff = vocab_train_len - vocab_dev_len\n",
    "print('vocab_len_diff = ',vocab_len_diff)\n",
    "\n",
    "# Calculate the fraction of the words in the dev data that are missing from the vocabulary\n",
    "\n",
    "print('fraction of the words in the dev data that are missing from the vocabulary is:end= ', round(vocab_len_diff/vocab_train_len, 5))"
   ]
  },
  {
   "cell_type": "markdown",
   "metadata": {},
   "source": [
    "(3) Use the default CountVectorizer options and report the f1 score (use metrics.f1_score) for a k nearest neighbors classifier; find the optimal value for k. Also fit a Multinomial Naive Bayes model and find the optimal value for alpha. Finally, fit a logistic regression model and find the optimal value for the regularization strength C using l2 regularization. A few questions:\n",
    "\n",
    "a. Why doesn't nearest neighbors work well for this problem?\n",
    "\n",
    "b. Any ideas why logistic regression doesn't work as well as Naive Bayes?\n",
    "\n",
    "c. Logistic regression estimates a weight vector for each class, which you can access with the coef\\_ attribute. Output the sum of the squared weight values for each class for each setting of the C parameter. Briefly explain the relationship between the sum and the value of C.\n",
    "\n",
    "[4 pts]"
   ]
  },
  {
   "cell_type": "code",
   "execution_count": 11,
   "metadata": {},
   "outputs": [
    {
     "name": "stdout",
     "output_type": "stream",
     "text": [
      "Optimal value for K is:  9\n",
      "F1 score for KNN classifier when k = 9 is:  0.42330050510183215\n"
     ]
    },
    {
     "name": "stderr",
     "output_type": "stream",
     "text": [
      "/Users/debalinamaiti/Documents/GraduateStudy/MIDS/Python_Bridge/anaconda3/envs/py36/lib/python3.6/site-packages/sklearn/model_selection/_split.py:1943: FutureWarning: You should specify a value for 'cv' instead of relying on the default value. The default value will change from 3 to 5 in version 0.22.\n",
      "  warnings.warn(CV_WARNING, FutureWarning)\n",
      "/Users/debalinamaiti/Documents/GraduateStudy/MIDS/Python_Bridge/anaconda3/envs/py36/lib/python3.6/site-packages/sklearn/naive_bayes.py:480: UserWarning: alpha too small will result in numeric errors, setting alpha = 1.0e-10\n",
      "  'setting alpha = %.1e' % _ALPHA_MIN)\n",
      "/Users/debalinamaiti/Documents/GraduateStudy/MIDS/Python_Bridge/anaconda3/envs/py36/lib/python3.6/site-packages/sklearn/naive_bayes.py:480: UserWarning: alpha too small will result in numeric errors, setting alpha = 1.0e-10\n",
      "  'setting alpha = %.1e' % _ALPHA_MIN)\n",
      "/Users/debalinamaiti/Documents/GraduateStudy/MIDS/Python_Bridge/anaconda3/envs/py36/lib/python3.6/site-packages/sklearn/naive_bayes.py:480: UserWarning: alpha too small will result in numeric errors, setting alpha = 1.0e-10\n",
      "  'setting alpha = %.1e' % _ALPHA_MIN)\n"
     ]
    },
    {
     "name": "stdout",
     "output_type": "stream",
     "text": [
      "best alpha value =  0.01\n",
      "best score using Multinomial NB Classifier is:  0.828416912487709\n"
     ]
    },
    {
     "name": "stderr",
     "output_type": "stream",
     "text": [
      "/Users/debalinamaiti/Documents/GraduateStudy/MIDS/Python_Bridge/anaconda3/envs/py36/lib/python3.6/site-packages/sklearn/linear_model/logistic.py:432: FutureWarning: Default solver will be changed to 'lbfgs' in 0.22. Specify a solver to silence this warning.\n",
      "  FutureWarning)\n",
      "/Users/debalinamaiti/Documents/GraduateStudy/MIDS/Python_Bridge/anaconda3/envs/py36/lib/python3.6/site-packages/sklearn/linear_model/logistic.py:459: FutureWarning: Default multi_class will be changed to 'auto' in 0.22. Specify the multi_class option to silence this warning.\n",
      "  \"this warning.\", FutureWarning)\n",
      "/Users/debalinamaiti/Documents/GraduateStudy/MIDS/Python_Bridge/anaconda3/envs/py36/lib/python3.6/site-packages/sklearn/model_selection/_split.py:1943: FutureWarning: You should specify a value for 'cv' instead of relying on the default value. The default value will change from 3 to 5 in version 0.22.\n",
      "  warnings.warn(CV_WARNING, FutureWarning)\n",
      "/Users/debalinamaiti/Documents/GraduateStudy/MIDS/Python_Bridge/anaconda3/envs/py36/lib/python3.6/site-packages/sklearn/linear_model/logistic.py:432: FutureWarning: Default solver will be changed to 'lbfgs' in 0.22. Specify a solver to silence this warning.\n",
      "  FutureWarning)\n",
      "/Users/debalinamaiti/Documents/GraduateStudy/MIDS/Python_Bridge/anaconda3/envs/py36/lib/python3.6/site-packages/sklearn/linear_model/logistic.py:459: FutureWarning: Default multi_class will be changed to 'auto' in 0.22. Specify the multi_class option to silence this warning.\n",
      "  \"this warning.\", FutureWarning)\n"
     ]
    },
    {
     "name": "stdout",
     "output_type": "stream",
     "text": [
      "best C value =  0.1\n",
      "best score using Logistic Regression is:  0.7664700098328416\n"
     ]
    }
   ],
   "source": [
    "### P3():\n",
    "## Fit a K-nearest neighbor classifier ##\n",
    "\n",
    "## Define prediction function for knn classifier ##\n",
    "def prediction(k, train, labels, dev):\n",
    "    neigh = KNeighborsClassifier(k)\n",
    "    neigh.fit(train, labels)\n",
    "    predict = neigh.predict(dev)\n",
    "    return predict\n",
    "\n",
    "## Define Function to calculate accuracy ##\n",
    "def accuracy(predict, dev_labels):\n",
    "    accurate, total = 0, 0\n",
    "    for pred, label in zip(predict, dev_labels):\n",
    "        if pred == label: accurate += 1\n",
    "        total += 1\n",
    "    return [total, accurate, round(1.0*accurate/total, 4)]\n",
    "\n",
    "k_val = [1, 3, 5, 7, 9]\n",
    "accu = 0\n",
    "bestK = 0\n",
    "\n",
    "# Using transform for dev_data instead of fit_transform as already it is fitted to train_data #\n",
    "dev_data_cv = cv.transform(dev_data)\n",
    "\n",
    "for k in k_val:\n",
    "    predict = prediction(k, train_cv, train_labels, dev_data_cv)\n",
    "    result = accuracy(predict, dev_labels)\n",
    "    if result[2] > accu:\n",
    "        #accu = result[2.0]\n",
    "        bestK = k\n",
    "print('Optimal value for K is: ', bestK)\n",
    "    \n",
    "pred = prediction(bestK, train_cv, train_labels, dev_data_cv)\n",
    "\n",
    "actual = np.array(dev_labels)\n",
    "#print(actual)\n",
    "#print(metrics.classification_report(dev_labels, pred, target_names=newsgroups_train.target_names))\n",
    "print(\"F1 score for KNN classifier when k = 9 is: \",f1_score(dev_labels, pred, average = 'macro'))\n",
    "\n",
    "## Naive Bayes ##\n",
    "\n",
    "mnb = MultinomialNB().fit(train_cv, train_labels)\n",
    "\n",
    "# prepare a range of alpha values to test\n",
    "alphas = np.array([0.0, 0.0001, 0.001, 0.01, 0.1, 0.5, 1.0, 2.0, 10.0])\n",
    "\n",
    "#Search for best alpha value\n",
    "\n",
    "grid_mnb = GridSearchCV(estimator=mnb, param_grid=dict(alpha=alphas))\n",
    "grid_mnb.fit(train_cv, train_labels)\n",
    "\n",
    "# summarize the results of the grid search\n",
    "print('best alpha value = ', grid_mnb.best_estimator_.alpha)\n",
    "print('best score using Multinomial NB Classifier is: ', grid_mnb.best_score_)\n",
    "\n",
    "## Logistic Regression ##\n",
    "\n",
    "logit = LogisticRegression().fit(train_cv, train_labels)\n",
    "\n",
    "param_grid = {'C': [0.001, 0.01, 0.1, 1, 10, 100, 1000] }\n",
    "grid_logit = GridSearchCV(LogisticRegression(penalty='l2'), param_grid)\n",
    "grid_logit.fit(train_cv, train_labels)\n",
    "\n",
    "print('best C value = ', grid_logit.best_estimator_.C)\n",
    "print('best score using Logistic Regression is: ', grid_logit.best_score_)\n",
    "\n",
    "#P3()"
   ]
  },
  {
   "cell_type": "markdown",
   "metadata": {},
   "source": [
    "**ANSWER:**  \n",
    "a) By extensive experimenting, through KNN clustering, consistency/ accuracy can be improved for predicting news group data. But due to overfitting, accuracy on predicting test data will not be that great.  \n",
    "  \n",
    "b) Naive Bayes is a generative model and so first models the joint distribution of the feature X and target Y; and then predicts the posterior probability given as P(y|x). Also it considers all the features to be conditionally independent.  \n",
    "On the other hand, Logistic Regression is a discriminative model. So it directly models the posterior probabilty of P(y|x) by learning the input to output mapping. Also it splits feature space linearly and predict accuracy based on that.  \n",
    "Because newgroup data consists of varieties of news or different types of text, features are not really correlated. And therefore Logistic Regression does not work as well as Naive Bayes does.  \n",
    "  \n",
    "c) In Logistic Regression, C value with minimum R-square is the best C value."
   ]
  },
  {
   "cell_type": "markdown",
   "metadata": {},
   "source": [
    "(4) Train a logistic regression model. Find the 5 features with the largest weights for each label -- 20 features in total. Create a table with 20 rows and 4 columns that shows the weight for each of these features for each of the labels. Create the table again with bigram features. Any surprising features in this table?\n",
    "\n",
    "[5 pts]"
   ]
  },
  {
   "cell_type": "code",
   "execution_count": 12,
   "metadata": {},
   "outputs": [
    {
     "name": "stdout",
     "output_type": "stream",
     "text": [
      "For Category: \"alt.atheism\", top five features are: ['god tells' 'cheers kent' 'don think' 'alt atheism' 'promises broken']\n",
      "For Category: \"comp.graphics\", top five features are: ['does anybody' 'does know' '24 bit' 'comp graphics' 'thanks advance']\n",
      "For Category: \"sci.space\", top five features are: ['real life' 'space shuttle' 'nasa gov' 'sci space' 'space station']\n",
      "For Category: \"talk.religion.misc\", top five features are: ['sure wrong' 'ignorance strength' 'cheers kent' 'objective morality'\n",
      " 'jesus christ']\n",
      ": Feature Name        : alt.atheism    : comp.graphics :  sci.space  : talk.religion.misc\n",
      "==========================================================================================\n",
      ": god tells           : 0.666817       : -0.2833       : -0.286589   : -0.149177  \n",
      ": cheers kent         : 0.723716       : -0.742005     : -0.747503   : 0.809051   \n",
      ": don think           : 0.777132       : -0.459338     : -0.25303    : -0.056463  \n",
      ": alt atheism         : 0.809897       : -0.417891     : -0.418916   : 0.039521   \n",
      ": promises broken     : 0.901168       : -0.382413     : -0.385961   : -0.132651  \n",
      ": does anybody        : -0.228302      : 0.804144      : -0.345856   : -0.27264   \n",
      ": does know           : -0.473687      : 0.83835       : 0.073794    : -0.492409  \n",
      ": 24 bit              : -0.342922      : 0.937397      : -0.347235   : -0.282495  \n",
      ": comp graphics       : -0.435389      : 1.25863       : -0.520206   : -0.359166  \n",
      ": thanks advance      : -0.626034      : 1.622659      : -0.551841   : -0.517518  \n",
      ": real life           : -0.229573      : -0.276349     : 0.629798    : -0.131179  \n",
      ": space shuttle       : -0.303208      : -0.360386     : 0.867289    : -0.251299  \n",
      ": nasa gov            : -0.386741      : -0.225216     : 0.90143     : -0.364936  \n",
      ": sci space           : -0.383911      : -0.467439     : 1.114379    : -0.317572  \n",
      ": space station       : -0.414633      : -0.498794     : 1.197635    : -0.342401  \n",
      ": sure wrong          : -0.194762      : -0.235673     : -0.237939   : 0.69165    \n",
      ": ignorance strength  : -0.230412      : -0.272208     : -0.275216   : 0.799614   \n",
      ": cheers kent         : 0.723716       : -0.742005     : -0.747503   : 0.809051   \n",
      ": objective morality  : -0.039936      : -0.369754     : -0.373838   : 0.809901   \n",
      ": jesus christ        : -0.196877      : -0.337244     : -0.341149   : 0.895921   \n"
     ]
    }
   ],
   "source": [
    "## P4\n",
    "\n",
    "# define a function to find the top n features with largest weights for each label#\n",
    "def show_top_n(classifier, vectorizer, categories, n):\n",
    "    feature_names = np.asarray(vectorizer.get_feature_names())\n",
    "    feature_list = []\n",
    "    top = []\n",
    "    weight_aa = []\n",
    "    weight_cg = []\n",
    "    weight_ss = []\n",
    "    weight_trm = []\n",
    "    for i, category in enumerate(categories):\n",
    "        top_n = np.argsort(classifier.coef_[i])[-n:]\n",
    "        top.append(top_n)\n",
    "        print('For Category: ''\"%s\"'', top five features are: '\"%s\" % (category, feature_names[top_n]))\n",
    "        feature_list.append(feature_names[top_n])\n",
    "        for j, cat in enumerate(categories):\n",
    "            if cat == \"alt.atheism\":\n",
    "                weight_aa.append(classifier.coef_[j][top_n])               \n",
    "            elif cat == \"comp.graphics\":\n",
    "                weight_cg.append(classifier.coef_[j][top_n])\n",
    "            elif cat == \"sci.space\":\n",
    "                weight_ss.append(classifier.coef_[j][top_n])\n",
    "            elif cat == \"talk.religion.misc\":\n",
    "                weight_trm.append((classifier.coef_[j])[top_n])\n",
    "\n",
    "    return [feature_list, weight_aa, weight_cg, weight_ss, weight_trm]\n",
    "\n",
    "logit_tv = LogisticRegression().fit(train_tv, train_labels)\n",
    "\n",
    "#Call show_top_n function to show the top 5 features against each label#\n",
    "show_feature_list = show_top_n(logit_tv, tv, newsgroups_train.target_names, 5)\n",
    "\n",
    "\n",
    "# Create 20/4 table to display weight against each feature of the labels #\n",
    "\n",
    "print(\": Feature Name        : alt.atheism    : comp.graphics :  sci.space  : talk.religion.misc\")\n",
    "print(\"==========================================================================================\")\n",
    "\n",
    "for i in range(5):           \n",
    "    print(\":\",show_feature_list[0][0][i],\" \"*(18 - len(show_feature_list[0][0][i])),\n",
    "          \":\",round(show_feature_list[1][0][i],6),\" \"*(13 - len(str(round(show_feature_list[1][0][i],6)))),\n",
    "          \":\",round(show_feature_list[2][0][i],6),\" \"*(12 - len(str(round(show_feature_list[2][0][i],6)))),\n",
    "          \":\",round(show_feature_list[3][0][i],6),\" \"*(10 - len(str(round(show_feature_list[3][0][i],6)))),\n",
    "          \":\",round(show_feature_list[4][0][i],6),\" \"*(10 - len(str(round(show_feature_list[4][0][i],6)))))\n",
    "\n",
    "for i in range(5):           \n",
    "    print(\":\",show_feature_list[0][1][i],\" \"*(18 - len(show_feature_list[0][1][i])),\n",
    "          \":\",round(show_feature_list[1][1][i],6),\" \"*(13 - len(str(round(show_feature_list[1][1][i],6)))),\n",
    "          \":\",round(show_feature_list[2][1][i],6),\" \"*(12 - len(str(round(show_feature_list[2][1][i],6)))),\n",
    "          \":\",round(show_feature_list[3][1][i],6),\" \"*(10 - len(str(round(show_feature_list[3][1][i],6)))),\n",
    "          \":\",round(show_feature_list[4][1][i],6),\" \"*(10 - len(str(round(show_feature_list[4][1][i],6)))))\n",
    "    \n",
    "for i in range(5):           \n",
    "    print(\":\",show_feature_list[0][2][i],\" \"*(18 - len(show_feature_list[0][2][i])),\n",
    "          \":\",round(show_feature_list[1][2][i],6),\" \"*(13 - len(str(round(show_feature_list[1][2][i],6)))),\n",
    "          \":\",round(show_feature_list[2][2][i],6),\" \"*(12 - len(str(round(show_feature_list[2][2][i],6)))),\n",
    "          \":\",round(show_feature_list[3][2][i],6),\" \"*(10 - len(str(round(show_feature_list[3][2][i],6)))),\n",
    "          \":\",round(show_feature_list[4][2][i],6),\" \"*(10 - len(str(round(show_feature_list[4][2][i],6)))))\n",
    "    \n",
    "for i in range(5):           \n",
    "    print(\":\",show_feature_list[0][3][i],\" \"*(18 - len(show_feature_list[0][3][i])),\n",
    "          \":\",round(show_feature_list[1][3][i],6),\" \"*(13 - len(str(round(show_feature_list[1][3][i],6)))),\n",
    "          \":\",round(show_feature_list[2][3][i],6),\" \"*(12 - len(str(round(show_feature_list[2][3][i],6)))),\n",
    "          \":\",round(show_feature_list[3][3][i],6),\" \"*(10 - len(str(round(show_feature_list[3][3][i],6)))),\n",
    "          \":\",round(show_feature_list[4][3][i],6),\" \"*(10 - len(str(round(show_feature_list[4][3][i],6)))))\n",
    "    \n"
   ]
  },
  {
   "cell_type": "markdown",
   "metadata": {},
   "source": [
    "ANSWER: Other than five top features in each label, co-efficients of other features are in negative values."
   ]
  },
  {
   "cell_type": "markdown",
   "metadata": {},
   "source": [
    "(5) Try to improve the logistic regression classifier by passing a custom preprocessor to CountVectorizer. The preprocessing function runs on the raw text, before it is split into words by the tokenizer. Your preprocessor should try to normalize the input in various ways to improve generalization. For example, try lowercasing everything, replacing sequences of numbers with a single token, removing various other non-letter characters, and shortening long words. If you're not already familiar with regular expressions for manipulating strings, see https://docs.python.org/2/library/re.html, and re.sub() in particular. With your new preprocessor, how much did you reduce the size of the dictionary?\n",
    "\n",
    "For reference, I was able to improve dev F1 by 2 points.\n",
    "\n",
    "[4 pts]"
   ]
  },
  {
   "cell_type": "code",
   "execution_count": 13,
   "metadata": {},
   "outputs": [
    {
     "name": "stdout",
     "output_type": "stream",
     "text": [
      "The size of dictionary on raw data:  26879\n",
      "F1 score on Dev_data without any prior manipulation 0.6793260443571856\n"
     ]
    },
    {
     "name": "stderr",
     "output_type": "stream",
     "text": [
      "/Users/debalinamaiti/Documents/GraduateStudy/MIDS/Python_Bridge/anaconda3/envs/py36/lib/python3.6/site-packages/sklearn/feature_extraction/text.py:286: UserWarning: Your stop_words may be inconsistent with your preprocessing. Tokenizing the stop words generated tokens ['afterw', 'agains', 'alread', 'althou', 'amongs', 'amoung', 'anothe', 'anythi', 'anywhe', 'becaus', 'becomi', 'betwee', 'couldn', 'descri', 'elsewh', 'everyo', 'everyt', 'everyw', 'fiftee', 'furthe', 'hereaf', 'hereup', 'hersel', 'himsel', 'howeve', 'hundre', 'intere', 'meanwh', 'moreov', 'neithe', 'nevert', 'nothin', 'nowher', 'otherw', 'oursel', 'perhap', 'seemin', 'seriou', 'severa', 'sincer', 'someho', 'someon', 'someth', 'someti', 'somewh', 'themse', 'therea', 'thereb', 'theref', 'therei', 'thereu', 'throug', 'togeth', 'whatev', 'whenev', 'wherea', 'whereb', 'wherei', 'whereu', 'wherev', 'whethe', 'whithe', 'whoeve', 'withou', 'yourse'] not in stop_words.\n",
      "  sorted(inconsistent))\n"
     ]
    },
    {
     "name": "stdout",
     "output_type": "stream",
     "text": [
      "The size of dictionary after pre-processing:  17512\n",
      "f1 score with better preprocessor:  0.7193989758105468\n"
     ]
    }
   ],
   "source": [
    "### P5():\n",
    "\n",
    "def my_preprocessor(data):\n",
    "\n",
    "   #Lowercase characters\n",
    "   data= data.lower()\n",
    "   #Remove non-letter or non number characters\n",
    "   data = re.sub(\"A-Za-z0-9 \\\\n\",\" \",data)\n",
    "   #shorten long words to 6 characters max\n",
    "   data=re.sub(\"(\\w{%d})\\w+\" %6,\"\\\\1\",data)\n",
    "   #replace sequence with number\n",
    "   data = re.sub(\"([\\d]+)\",\" number \",data)\n",
    "   return data\n",
    "\n",
    "\n",
    "# Print F1 score before processing the raw data\n",
    "f1_original = logit.predict(dev_data_cv)\n",
    "print(\"The size of dictionary on raw data: \", train_cv.shape[1] )\n",
    "print(\"F1 score on Dev_data without any prior manipulation\",f1_score(dev_labels, f1_original, average = 'macro'))\n",
    "\n",
    "\n",
    "# Process raw data by calling pre-processor\n",
    "processed_cv = CountVectorizer(preprocessor=my_preprocessor, stop_words='english')\n",
    "processed_train_cv = processed_cv.fit_transform(train_data)\n",
    "processed_dev_cv =processed_cv.transform(dev_data)\n",
    "processed_logit_cv = LogisticRegression(penalty='l2')\n",
    "processed_logit_cv.fit(processed_train_cv,train_labels)\n",
    "f1_later = processed_logit_cv.predict(processed_dev_cv)\n",
    "print(\"The size of dictionary after pre-processing: \", processed_train_cv.shape[1] )\n",
    "print(\"f1 score with better preprocessor: \", metrics.f1_score(dev_labels,f1_later,average ='macro'))"
   ]
  },
  {
   "cell_type": "markdown",
   "metadata": {},
   "source": [
    "**ANS:** I was able to reduce teh size of dictionary by 9357 points.  \n",
    "F1 score increased by 0.04 points."
   ]
  },
  {
   "cell_type": "markdown",
   "metadata": {},
   "source": [
    "(6) The idea of regularization is to avoid learning very large weights (which are likely to fit the training data, but not generalize well) by adding a penalty to the total size of the learned weights. That is, logistic regression seeks the set of weights that minimizes errors in the training data AND has a small size. The default regularization, L2, computes this size as the sum of the squared weights (see P3, above). L1 regularization computes this size as the sum of the absolute values of the weights. The result is that whereas L2 regularization makes all the weights relatively small, L1 regularization drives lots of the weights to 0, effectively removing unimportant features.\n",
    "\n",
    "Train a logistic regression model using a \"l1\" penalty. Output the number of learned weights that are not equal to zero. How does this compare to the number of non-zero weights you get with \"l2\"? Now, reduce the size of the vocabulary by keeping only those features that have at least one non-zero weight and retrain a model using \"l2\".\n",
    "\n",
    "Make a plot showing accuracy of the re-trained model vs. the vocabulary size you get when pruning unused features by adjusting the C parameter.\n",
    "\n",
    "Note: The gradient descent code that trains the logistic regression model sometimes has trouble converging with extreme settings of the C parameter. Relax the convergence criteria by setting tol=.01 (the default is .0001).\n",
    "\n",
    "[4 pts]"
   ]
  },
  {
   "cell_type": "code",
   "execution_count": 14,
   "metadata": {},
   "outputs": [
    {
     "name": "stderr",
     "output_type": "stream",
     "text": [
      "/Users/debalinamaiti/Documents/GraduateStudy/MIDS/Python_Bridge/anaconda3/envs/py36/lib/python3.6/site-packages/sklearn/svm/base.py:922: ConvergenceWarning: Liblinear failed to converge, increase the number of iterations.\n",
      "  \"the number of iterations.\", ConvergenceWarning)\n"
     ]
    },
    {
     "name": "stdout",
     "output_type": "stream",
     "text": [
      "Number of non-zero weights for L1 regularization:  1814\n",
      "Number of non-zero weights for L2 regularization:  107516\n",
      "As number of samples where weight is  0 , not manipulating vocabulary size\n",
      "Vocabulary size for dev data is:  16246\n"
     ]
    },
    {
     "data": {
      "image/png": "[encoded data removed]",
      "text/plain": [
       "<Figure size 432x288 with 1 Axes>"
      ]
     },
     "metadata": {
      "needs_background": "light"
     },
     "output_type": "display_data"
    }
   ],
   "source": [
    "# def P6():\n",
    "# Keep this random seed here to make comparison easier.\n",
    "np.random.seed(0)\n",
    "\n",
    "#Classifier using L1 penalty\n",
    "logit_l1 = LogisticRegression(penalty='l1', tol=0.01, C=1).fit(train_cv, train_labels)\n",
    "print('Number of non-zero weights for L1 regularization: ',np.count_nonzero(logit_l1.coef_ != 0))\n",
    "\n",
    "#Classifier using L2 penalty\n",
    "logit_l2 = LogisticRegression(penalty='l2', tol=0.01, C=1).fit(train_cv, train_labels)\n",
    "print('Number of non-zero weights for L2 regularization: ',np.count_nonzero(logit_l2.coef_ != 0))\n",
    "\n",
    "#Reduce vocab size keeping only those features that have at least one non-zero weight and retrain a model using \"l2\"\n",
    "\n",
    "print('As number of samples where weight is ',np.count_nonzero(logit_l2.coef_ == 0),', not manipulating vocabulary size',)\n",
    "\n",
    "#As there is no zero weight, we will be using logit_l2 classifier\n",
    "\n",
    "# Plot Accuracy vs vocab size on dev data with variable c values\n",
    "c_values = [1 , 2, 3, 4, 5, 6, 7, 8, 9, 10]\n",
    "accuracy_score = [1 , 2, 3, 4, 5, 6, 7, 8, 9, 10]\n",
    "vocab_size = [1 , 2, 3, 4, 5, 6, 7, 8, 9, 10]\n",
    "for c in c_values:\n",
    "    logit_plot = LogisticRegression (C = c, penalty='l2', tol=0.01,).fit(train_cv, train_labels)\n",
    "    accuracy_score[c-1] = logit_plot.score(dev_data_cv, dev_labels)\n",
    "\n",
    "#dev_feature_names = cv.get_feature_names()\n",
    "#vocab_size = len(feature_names)\n",
    "print('Vocabulary size for dev data is: ', vocab_dev_len)\n",
    "plt.xlabel('C values')\n",
    "plt.ylabel('Accuracies')\n",
    "plt.scatter(c_values, accuracy_score,  color='black')\n",
    "plt.plot(c_values, accuracy_score, color='blue', linewidth=3)\n",
    "plt.show()\n"
   ]
  },
  {
   "cell_type": "markdown",
   "metadata": {},
   "source": [
    "(7) Use the TfidfVectorizer -- how is this different from the CountVectorizer? Train a logistic regression model with C=100.\n",
    "\n",
    "Make predictions on the dev data and show the top 3 documents where the ratio R is largest, where R is:\n",
    "\n",
    "maximum predicted probability / predicted probability of the correct label\n",
    "\n",
    "What kinds of mistakes is the model making? Suggest a way to address one particular issue that you see.\n",
    "\n",
    "[4 pts]"
   ]
  },
  {
   "cell_type": "code",
   "execution_count": 15,
   "metadata": {},
   "outputs": [
    {
     "name": "stdout",
     "output_type": "stream",
     "text": [
      "In this case predicted probability of the correct label is fixed; so R will be best for the labels with 3 highest predicted probabilities.\n",
      "Three documents where ratio R is largest are:  talk.religion.misc   comp.graphics   sci.space\n"
     ]
    }
   ],
   "source": [
    "###def P7():\n",
    "logit_tvC100 = LogisticRegression(C=100).fit(train_tv, train_labels)\n",
    "dev_data_tv = tv.transform(dev_data)\n",
    "pred_dev = logit_tvC100.predict(dev_data_tv)\n",
    "pred_prob = logit_tvC100.predict_proba(dev_data_tv)\n",
    "\n",
    "# Calculate max predicted probability and return label with lowest predicted probability\n",
    "def best3_pred_prob_label():\n",
    "    lowest_pred_prob = 1\n",
    "    worst_predicted_label = ''\n",
    "    best_predicted_labels = [1, 2, 3]\n",
    "    for n, cat in enumerate(categories):\n",
    "        if cat == \"alt.atheism\":\n",
    "            max_pred_prob_aa = max(pred_prob[n])\n",
    "            if max_pred_prob_aa < lowest_pred_prob:\n",
    "                lowest_pred_prob = max_pred_prob_aa\n",
    "                worst_predicted_label = cat\n",
    "        elif cat == \"comp.graphics\":\n",
    "            max_pred_prob_cg = max(pred_prob[n])\n",
    "            if max_pred_prob_cg < lowest_pred_prob:\n",
    "                lowest_pred_prob = max_pred_prob_cg\n",
    "                worst_predicted_label = cat\n",
    "        elif cat == \"sci.space\":\n",
    "            max_pred_prob_ss = max(pred_prob[n])\n",
    "            if max_pred_prob_ss < lowest_pred_prob:\n",
    "                lowest_pred_prob = max_pred_prob_ss\n",
    "                worst_predicted_label = cat\n",
    "        elif cat == \"talk.religion.misc\":\n",
    "            max_pred_prob_trm = max(pred_prob[n])\n",
    "            if max_pred_prob_trm < lowest_pred_prob:\n",
    "                lowest_pred_prob = max_pred_prob_trm\n",
    "                worst_predicted_label = cat\n",
    "    j = 0\n",
    "    for category in categories:\n",
    "        if category != worst_predicted_label:\n",
    "            best_predicted_labels[j] = category\n",
    "            j = j + 1\n",
    "    return best_predicted_labels\n",
    "# Calculate predicted probability of the correct label\n",
    "\n",
    "best3_pp_labels = best3_pred_prob_label()\n",
    "\n",
    "print(\"In this case predicted probability of the correct label is fixed;\"\n",
    "      \" so R will be best for the labels with 3 highest predicted probabilities.\")\n",
    "\n",
    "print(\"Three documents where ratio R is largest are: \", best3_pp_labels[0], ' ', best3_pp_labels[1], ' ', best3_pp_labels[2])\n"
   ]
  },
  {
   "cell_type": "markdown",
   "metadata": {},
   "source": [
    "ANSWER: Model is predicting the label incorrectly. For example for graphics technology is being predicted as a document under category \"alt.atheism\", which should correctly be a \"comp.graphics\" doc"
   ]
  },
  {
   "cell_type": "markdown",
   "metadata": {},
   "source": [
    "(8) EXTRA CREDIT\n",
    "\n",
    "Try implementing one of your ideas based on your error analysis. Use logistic regression as your underlying model.\n",
    "\n",
    "- [1 pt] for a reasonable attempt\n",
    "- [2 pts] for improved performance"
   ]
  }
 ],
 "metadata": {
  "kernelspec": {
   "display_name": "Python [conda root]",
   "language": "python",
   "name": "conda-root-py"
  },
  "language_info": {
   "codemirror_mode": {
    "name": "ipython",
    "version": 3
   },
   "file_extension": ".py",
   "mimetype": "text/x-python",
   "name": "python",
   "nbconvert_exporter": "python",
   "pygments_lexer": "ipython3",
   "version": "3.6.5"
  }
 },
 "nbformat": 4,
 "nbformat_minor": 1
}
